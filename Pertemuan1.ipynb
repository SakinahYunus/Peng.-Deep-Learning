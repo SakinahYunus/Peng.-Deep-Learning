{
  "nbformat": 4,
  "nbformat_minor": 0,
  "metadata": {
    "colab": {
      "name": "Pertemuan1.ipynb",
      "provenance": []
    },
    "kernelspec": {
      "name": "python3",
      "display_name": "Python 3"
    },
    "language_info": {
      "name": "python"
    }
  },
  "cells": [
    {
      "cell_type": "markdown",
      "source": [
        "Nama : Sakinah Yunus\n",
        "\n",
        "NIM  : H071191046\n",
        "\n"
      ],
      "metadata": {
        "id": "ENpIUC2xYnVs"
      }
    },
    {
      "cell_type": "markdown",
      "source": [
        "Penulisan Statement Python"
      ],
      "metadata": {
        "id": "BAuWk5aoZAk3"
      }
    },
    {
      "cell_type": "code",
      "execution_count": 1,
      "metadata": {
        "colab": {
          "base_uri": "https://localhost:8080/"
        },
        "id": "-4STBmODYJ7D",
        "outputId": "f0e049e7-f9a2-4c25-e040-e4bcc83e663c"
      },
      "outputs": [
        {
          "output_type": "stream",
          "name": "stdout",
          "text": [
            "Hello World!\n",
            "Belajar Python\n"
          ]
        }
      ],
      "source": [
        "print(\"Hello World!\")\n",
        "print(\"Belajar Python\")"
      ]
    },
    {
      "cell_type": "markdown",
      "source": [
        "Penulisan Komentar"
      ],
      "metadata": {
        "id": "tjonjI6SZKtU"
      }
    },
    {
      "cell_type": "markdown",
      "source": [
        "Tanda Pagar (#)"
      ],
      "metadata": {
        "id": "OHIO5BCiZRN-"
      }
    },
    {
      "cell_type": "code",
      "source": [
        "# ini adalah komentar\n",
        "# Ini juga komentar"
      ],
      "metadata": {
        "id": "vDNPWxH_ZSwg"
      },
      "execution_count": 2,
      "outputs": []
    },
    {
      "cell_type": "markdown",
      "source": [
        "Triple Tanda Petik"
      ],
      "metadata": {
        "id": "o6Qod-KUZcbX"
      }
    },
    {
      "cell_type": "code",
      "source": [
        "class Pagar:\n",
        "    \"\"\"kelas pagar untuk membuat objek pagar. \"\"\"\n",
        "    def __init__(self, warna, tinggi, bahan):\n",
        "        self.warna = warna\n",
        "        self.tinggi = tinggi\n",
        "        self.bahan = bahan\n",
        "\n",
        "input('\\ntekan [enter] untuk melihat bantuan (dokumentasi) kelas: ')\n",
        "help(Pagar) # untuk melihat dokumentasi kelas"
      ],
      "metadata": {
        "colab": {
          "base_uri": "https://localhost:8080/"
        },
        "id": "c_RXhz1rZeeM",
        "outputId": "e29c00d3-45ed-4597-b050-424ebb22314b"
      },
      "execution_count": 3,
      "outputs": [
        {
          "output_type": "stream",
          "name": "stdout",
          "text": [
            "\n",
            "tekan [enter] untuk melihat bantuan (dokumentasi) kelas: \n",
            "Help on class Pagar in module __main__:\n",
            "\n",
            "class Pagar(builtins.object)\n",
            " |  Pagar(warna, tinggi, bahan)\n",
            " |  \n",
            " |  kelas pagar untuk membuat objek pagar.\n",
            " |  \n",
            " |  Methods defined here:\n",
            " |  \n",
            " |  __init__(self, warna, tinggi, bahan)\n",
            " |      Initialize self.  See help(type(self)) for accurate signature.\n",
            " |  \n",
            " |  ----------------------------------------------------------------------\n",
            " |  Data descriptors defined here:\n",
            " |  \n",
            " |  __dict__\n",
            " |      dictionary for instance variables (if defined)\n",
            " |  \n",
            " |  __weakref__\n",
            " |      list of weak references to the object (if defined)\n",
            "\n"
          ]
        }
      ]
    },
    {
      "cell_type": "markdown",
      "source": [
        "Tipe Data"
      ],
      "metadata": {
        "id": "eR2bOT74Zqk_"
      }
    },
    {
      "cell_type": "markdown",
      "source": [
        "**1. Tipe Data Angka**\n",
        "\n",
        "Tipe data angka dibagi menjadi beberapa jenis:\n",
        "\n",
        "int (Integer): bilangan bulat, contoh 32, 22, 12, 10, dsb.\n",
        "\n",
        "float: bilangan pecahan, contoh 1.3, 4.2, 22.3, dsb."
      ],
      "metadata": {
        "id": "qPVxtBaOZwcA"
      }
    },
    {
      "cell_type": "code",
      "source": [
        "harga = 12000 #tipe int\n",
        "berat = 23.12 #float\n",
        "jarak = 3e3 #float 3000.0, huruf e artinya eksponen 10"
      ],
      "metadata": {
        "id": "FTsDSF5eZy8t"
      },
      "execution_count": 4,
      "outputs": []
    },
    {
      "cell_type": "markdown",
      "source": [
        "**2. Tipe Data Teks**\n",
        "\n",
        "Tipe data teks dibagi menjadi dua jenis:\n",
        "\n",
        "Char: Karakter, contoh 'R'.\n",
        "\n",
        "String: Kumpulan karakter, contoh \"aku lagi makan\".\n",
        "\n",
        "Penulisan tipe data teks harus diapit dengan tanda petik. Bisa menggunakan petik tunggal ('...'), ganda (\"...\"), dan tiga ('''...''' atau \"\"\"...\"\"\")."
      ],
      "metadata": {
        "id": "ZUHNHCzWZ_Un"
      }
    },
    {
      "cell_type": "code",
      "source": [
        "mata_kuliah = \"Pengantar Deep Learning\"\n",
        "kode = '18H07121903'\n",
        "jumlah_sks = '3'\n",
        "jadwal = \"\"\"\n",
        "    Senin,\n",
        "    13:10 - 15:40 \n",
        "\"\"\""
      ],
      "metadata": {
        "id": "_4oiLAroaJ3P"
      },
      "execution_count": 5,
      "outputs": []
    },
    {
      "cell_type": "markdown",
      "source": [
        "**3. Tipe Data Boolean**\n",
        "\n",
        "Tipe data boolean adalah tipe data yang hanya memiliki dua nilai yaitu True dan False atau 0 dan 1."
      ],
      "metadata": {
        "id": "m89cVwrlaN4p"
      }
    },
    {
      "cell_type": "code",
      "source": [
        "bergerak = True\n",
        "nyala = 1 #sebenarnya tipenya int, tapi bisa juga menjadi boolean"
      ],
      "metadata": {
        "id": "twA1tnM-aXMO"
      },
      "execution_count": 6,
      "outputs": []
    },
    {
      "cell_type": "markdown",
      "source": [
        "Operator Dalam Python"
      ],
      "metadata": {
        "id": "ecCnSXH-aZeC"
      }
    },
    {
      "cell_type": "markdown",
      "source": [
        "**1. Operator Aritmatika**"
      ],
      "metadata": {
        "id": "fJaZXfDVadKD"
      }
    },
    {
      "cell_type": "code",
      "source": [
        "# Operator penjumlahan\n",
        "c = 7 + 4\n",
        "print(\"Hasil 7 + 4 = \", c)\n",
        "\n",
        "# Operator Pengurangan\n",
        "c = 7 - 4\n",
        "print(\"Hasil 7 - 4 = \", c)\n",
        "\n",
        "# Operator Perkalian\n",
        "c = 7 * 4\n",
        "print(\"Hasil 7 * 4 = \", c)\n",
        "\n",
        "# Operator Pembagian\n",
        "c = 7 / 4\n",
        "print(\"Hasil 7 / 4 = \", c)\n",
        "\n",
        "# Operator Sisa Bagi (modulo)\n",
        "c = 7 % 4\n",
        "print(\"Hasil 7 % 4 = \", c)\n",
        "\n",
        "# Operator Pangkat\n",
        "c = 7 ** 4\n",
        "print(\"Hasil 7 ** 4 = \", c)"
      ],
      "metadata": {
        "colab": {
          "base_uri": "https://localhost:8080/"
        },
        "id": "LjTZfyDtahF6",
        "outputId": "fe5ed2c8-23db-4387-e036-6f679fdef2a6"
      },
      "execution_count": 7,
      "outputs": [
        {
          "output_type": "stream",
          "name": "stdout",
          "text": [
            "Hasil 7 + 4 =  11\n",
            "Hasil 7 - 4 =  3\n",
            "Hasil 7 * 4 =  28\n",
            "Hasil 7 / 4 =  1.75\n",
            "Hasil 7 % 4 =  3\n",
            "Hasil 7 ** 4 =  2401\n"
          ]
        }
      ]
    },
    {
      "cell_type": "markdown",
      "source": [
        "**2. Operator Pembanding/Relasi**\n"
      ],
      "metadata": {
        "id": "RoKHQftjal9J"
      }
    },
    {
      "cell_type": "code",
      "source": [
        "# Operator Sama Dengan\n",
        "c = 7 == 4\n",
        "print(\"Hasil 7 == 4\", c)\n",
        "\n",
        "# Operator Tidak Sama dengan\n",
        "c = 7 != 4\n",
        "print(\"Hasil 7 != 4\", c)\n",
        "\n",
        "# Operator Lebih Kecil\n",
        "callable = 7 < 4\n",
        "print(\"Hasil 7 < 4\", c)\n",
        "\n",
        "# Operator Lebih Besar\n",
        "c = 7 > 4\n",
        "print(\"Hasil 7 > 4\", c)\n",
        "\n",
        "# Operator Lebih Besar Sama dengan\n",
        "c = 7 >= 4\n",
        "print(\"Hasil 7 >= 4\", c)\n",
        "\n",
        "# Operator Lebih Kecil Sama dengan\n",
        "c = 7 <= 4\n",
        "print(\"Hasil 7 <= 4\", c)"
      ],
      "metadata": {
        "colab": {
          "base_uri": "https://localhost:8080/"
        },
        "id": "XhCLGI_Iaqv-",
        "outputId": "339a45f8-a21d-4c54-aa94-981a645335ac"
      },
      "execution_count": 8,
      "outputs": [
        {
          "output_type": "stream",
          "name": "stdout",
          "text": [
            "Hasil 7 == 4 False\n",
            "Hasil 7 != 4 True\n",
            "Hasil 7 < 4 True\n",
            "Hasil 7 > 4 True\n",
            "Hasil 7 >= 4 True\n",
            "Hasil 7 <= 4 False\n"
          ]
        }
      ]
    },
    {
      "cell_type": "markdown",
      "source": [
        "**3. Operator Logika**"
      ],
      "metadata": {
        "id": "uVrACjgWau3J"
      }
    },
    {
      "cell_type": "code",
      "source": [
        "a = True\n",
        "b = False\n",
        "\n",
        "# Logika AND\n",
        "x = a and b\n",
        "print(\"a and b = \", x)\n",
        "\n",
        "# Logika OR\n",
        "y = a or b\n",
        "print(\"a or b = \", y)\n",
        "\n",
        "# Logika Not\n",
        "z = not a\n",
        "print(\"not a = \", z)"
      ],
      "metadata": {
        "colab": {
          "base_uri": "https://localhost:8080/"
        },
        "id": "BS3fe9Z6ayum",
        "outputId": "70707dd1-239d-4cd6-e543-e3462200d87f"
      },
      "execution_count": 9,
      "outputs": [
        {
          "output_type": "stream",
          "name": "stdout",
          "text": [
            "a and b =  False\n",
            "a or b =  True\n",
            "not a =  False\n"
          ]
        }
      ]
    },
    {
      "cell_type": "markdown",
      "source": [
        "**4. Operator Bitwise**"
      ],
      "metadata": {
        "id": "QFV3CH_Va1qL"
      }
    },
    {
      "cell_type": "code",
      "source": [
        "# Operator AND\n",
        "c = 7 & 4\n",
        "print(\"Hasil 7 & 4 = \", c)\n",
        "\n",
        "# Operator OR\n",
        "c = 7 | 4\n",
        "print(\"Hasil 7 | 4 = \", c)\n",
        "\n",
        "# Operator XOR\n",
        "c = 7 ^ 4\n",
        "print(\"Hasil 7 ^ 4 = \", c)\n",
        "\n",
        "# Operator Not\n",
        "c = ~7\n",
        "print(\"Hasil ~7 = \", c)\n",
        "\n",
        "# Operator shift left (tukar posisi biner)\n",
        "c = 7 << 4\n",
        "print(\"Hasil 7 << 4 = \", c)\n",
        "\n",
        "# Operator shift right (tukar posisi biner)\n",
        "c = 7 >> 4\n",
        "print(\"Hasil 7 >> 4 = \", c)"
      ],
      "metadata": {
        "colab": {
          "base_uri": "https://localhost:8080/"
        },
        "id": "OwF8zSZUa5z5",
        "outputId": "585a9fac-9d2b-49f5-f1a9-5c598853c952"
      },
      "execution_count": 10,
      "outputs": [
        {
          "output_type": "stream",
          "name": "stdout",
          "text": [
            "Hasil 7 & 4 =  4\n",
            "Hasil 7 | 4 =  7\n",
            "Hasil 7 ^ 4 =  3\n",
            "Hasil ~7 =  -8\n",
            "Hasil 7 << 4 =  112\n",
            "Hasil 7 >> 4 =  0\n"
          ]
        }
      ]
    },
    {
      "cell_type": "markdown",
      "source": [
        "Perulangan"
      ],
      "metadata": {
        "id": "HcpuMyYya8rf"
      }
    },
    {
      "cell_type": "markdown",
      "source": [
        "**For**"
      ],
      "metadata": {
        "id": "R9eCwWWxa_dG"
      }
    },
    {
      "cell_type": "code",
      "source": [
        "ulang = 10\n",
        "\n",
        "for i in range(ulang):\n",
        "    print(f\"Perulangan ke-{i}\")"
      ],
      "metadata": {
        "colab": {
          "base_uri": "https://localhost:8080/"
        },
        "id": "elJLcCyKbCPO",
        "outputId": "b80b2e24-8682-4c41-a098-76decb276ded"
      },
      "execution_count": 11,
      "outputs": [
        {
          "output_type": "stream",
          "name": "stdout",
          "text": [
            "Perulangan ke-0\n",
            "Perulangan ke-1\n",
            "Perulangan ke-2\n",
            "Perulangan ke-3\n",
            "Perulangan ke-4\n",
            "Perulangan ke-5\n",
            "Perulangan ke-6\n",
            "Perulangan ke-7\n",
            "Perulangan ke-8\n",
            "Perulangan ke-9\n"
          ]
        }
      ]
    },
    {
      "cell_type": "code",
      "source": [
        "item = ['kopi', 'nasi', 'teh', 'jeruk']\n",
        "\n",
        "for isi in item:\n",
        "    print(isi)"
      ],
      "metadata": {
        "colab": {
          "base_uri": "https://localhost:8080/"
        },
        "id": "eWcK_vaMbEzC",
        "outputId": "68f1b464-ef67-45eb-a670-0aba44ad7af7"
      },
      "execution_count": 12,
      "outputs": [
        {
          "output_type": "stream",
          "name": "stdout",
          "text": [
            "kopi\n",
            "nasi\n",
            "teh\n",
            "jeruk\n"
          ]
        }
      ]
    },
    {
      "cell_type": "markdown",
      "source": [
        "**while**"
      ],
      "metadata": {
        "id": "GBq2KR79bG0V"
      }
    },
    {
      "cell_type": "code",
      "source": [
        "tjawab = 'ya'\n",
        "hitung = 0\n",
        "\n",
        "while(True):\n",
        "    hitung += 1\n",
        "    jawab = input(\"Ulang lagi tidak? \")\n",
        "    if jawab == 'tidak':\n",
        "        break\n",
        "\n",
        "print(f\"Total perulagan: {hitung}\")"
      ],
      "metadata": {
        "colab": {
          "base_uri": "https://localhost:8080/"
        },
        "id": "t_tgLO_RbLgA",
        "outputId": "ea78aa8f-9935-4596-c676-63fad4991d00"
      },
      "execution_count": 13,
      "outputs": [
        {
          "output_type": "stream",
          "name": "stdout",
          "text": [
            "Ulang lagi tidak? ya\n",
            "Ulang lagi tidak? ya\n",
            "Ulang lagi tidak? tidak\n",
            "Total perulagan: 3\n"
          ]
        }
      ]
    },
    {
      "cell_type": "markdown",
      "source": [
        "**Fungsi**"
      ],
      "metadata": {
        "id": "kCs-e5lIbRbn"
      }
    },
    {
      "cell_type": "code",
      "source": [
        "def luas_persegi(sisi):\n",
        "    luas = sisi * sisi\n",
        "    return luas\n",
        "\n",
        "# pemanggilan fungsi\n",
        "print(\"Luas persegi: %d\" % luas_persegi(6))"
      ],
      "metadata": {
        "colab": {
          "base_uri": "https://localhost:8080/"
        },
        "id": "6BlcwIfsbUlA",
        "outputId": "b42f7cc4-bd6b-4abb-d91f-687e3db1ece5"
      },
      "execution_count": 14,
      "outputs": [
        {
          "output_type": "stream",
          "name": "stdout",
          "text": [
            "Luas persegi: 36\n"
          ]
        }
      ]
    }
  ]
}